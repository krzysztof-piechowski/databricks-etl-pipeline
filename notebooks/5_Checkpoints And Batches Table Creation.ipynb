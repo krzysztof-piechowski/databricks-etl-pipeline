{
 "cells": [
  {
   "cell_type": "code",
   "execution_count": 0,
   "metadata": {
    "application/vnd.databricks.v1+cell": {
     "cellMetadata": {
      "byteLimit": 2048000,
      "rowLimit": 10000
     },
     "inputWidgets": {},
     "nuid": "4ced42d5-2ebb-4374-bfab-c1ee48cbe60b",
     "showTitle": false,
     "tableResultSettingsMap": {},
     "title": ""
    }
   },
   "outputs": [],
   "source": [
    "from pyspark.sql import functions as F\n",
    "from delta.tables import DeltaTable\n",
    "from datetime import datetime\n",
    "import time, uuid\n",
    "import traceback"
   ]
  },
  {
   "cell_type": "code",
   "execution_count": 0,
   "metadata": {
    "application/vnd.databricks.v1+cell": {
     "cellMetadata": {
      "byteLimit": 2048000,
      "rowLimit": 10000
     },
     "inputWidgets": {},
     "nuid": "3ea514bd-b58e-4f8f-8853-5f147ca6a8c2",
     "showTitle": false,
     "tableResultSettingsMap": {},
     "title": ""
    }
   },
   "outputs": [],
   "source": [
    "checkpoint_log_table_path = \"abfss://gold@storageaccpiechk.dfs.core.windows.net/_checkpoints/\"\n",
    "checkpoint_log_table = \"databricks_cata.gold.checkpoint_log\"\n",
    "\n",
    "batch_log_table_path = \"abfss://gold@storageaccpiechk.dfs.core.windows.net/_batches/\"\n",
    "batch_log_table = \"databricks_cata.gold.batch_log\""
   ]
  },
  {
   "cell_type": "code",
   "execution_count": 0,
   "metadata": {
    "application/vnd.databricks.v1+cell": {
     "cellMetadata": {
      "byteLimit": 2048000,
      "rowLimit": 10000
     },
     "inputWidgets": {},
     "nuid": "270f1ce5-b4df-4e98-b6e3-a5ee5b9d3207",
     "showTitle": false,
     "tableResultSettingsMap": {},
     "title": ""
    }
   },
   "outputs": [
    {
     "output_type": "execute_result",
     "data": {
      "text/plain": [
       "DataFrame[]"
      ]
     },
     "execution_count": 7,
     "metadata": {},
     "output_type": "execute_result"
    }
   ],
   "source": [
    "# Ensure checkpoint table exists\n",
    "spark.sql(f\"\"\"\n",
    "CREATE TABLE IF NOT EXISTS {checkpoint_log_table} (\n",
    "  table_name STRING,\n",
    "  last_processed_version LONG,\n",
    "  last_processed_ts TIMESTAMP\n",
    ")\n",
    "USING DELTA\n",
    "LOCATION '{checkpoint_log_table_path}'\n",
    "\"\"\")"
   ]
  },
  {
   "cell_type": "code",
   "execution_count": 0,
   "metadata": {
    "application/vnd.databricks.v1+cell": {
     "cellMetadata": {
      "byteLimit": 2048000,
      "rowLimit": 10000
     },
     "inputWidgets": {},
     "nuid": "1abff8b9-6949-444e-8a4d-c2bfbfea4637",
     "showTitle": false,
     "tableResultSettingsMap": {},
     "title": ""
    }
   },
   "outputs": [
    {
     "output_type": "execute_result",
     "data": {
      "text/plain": [
       "DataFrame[]"
      ]
     },
     "execution_count": 8,
     "metadata": {},
     "output_type": "execute_result"
    }
   ],
   "source": [
    "# Ensure batches table exists for idempotency and auditing\n",
    "spark.sql(f\"\"\"\n",
    "CREATE TABLE IF NOT EXISTS {batch_log_table} (\n",
    "  batch_id STRING,\n",
    "  table_name STRING,\n",
    "  starting_version LONG,\n",
    "  ending_version LONG,\n",
    "  row_count LONG,\n",
    "  status STRING,\n",
    "  started_ts TIMESTAMP,\n",
    "  finished_ts TIMESTAMP,\n",
    "  error_msg STRING\n",
    ")\n",
    "USING DELTA\n",
    "LOCATION '{batch_log_table_path}'\n",
    "\"\"\")"
   ]
  }
 ],
 "metadata": {
  "application/vnd.databricks.v1+notebook": {
   "computePreferences": null,
   "dashboards": [],
   "environmentMetadata": {
    "base_environment": "",
    "environment_version": "4"
   },
   "inputWidgetPreferences": null,
   "language": "python",
   "notebookMetadata": {
    "pythonIndentUnit": 4
   },
   "notebookName": "Checkpoints And Batches Table Creation",
   "widgets": {}
  },
  "language_info": {
   "name": "python"
  }
 },
 "nbformat": 4,
 "nbformat_minor": 0
}